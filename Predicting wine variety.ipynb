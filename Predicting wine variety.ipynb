{
 "cells": [
  {
   "cell_type": "code",
   "execution_count": 1,
   "metadata": {},
   "outputs": [],
   "source": [
    "import pandas as pd\n",
    "import numpy as np\n",
    "import matplotlib.pyplot as plt\n",
    "import seaborn as sns\n",
    "import math\n",
    "from sklearn.model_selection import train_test_split\n",
    "from sklearn.metrics import precision_recall_curve\n",
    "from sklearn.linear_model import LogisticRegression\n",
    "from sklearn.feature_extraction.text import CountVectorizer\n"
   ]
  },
  {
   "cell_type": "code",
   "execution_count": 2,
   "metadata": {},
   "outputs": [],
   "source": [
    "\n",
    "data = pd.read_csv('/Users/bhavikprajapati/Downloads/Knight ML Assignment/Data/train.csv')"
   ]
  },
  {
   "cell_type": "code",
   "execution_count": 3,
   "metadata": {},
   "outputs": [
    {
     "data": {
      "text/plain": [
       "CountVectorizer(analyzer='word', binary=False, decode_error='strict',\n",
       "                dtype=<class 'numpy.int64'>, encoding='utf-8', input='content',\n",
       "                lowercase=True, max_df=1.0, max_features=None, min_df=1,\n",
       "                ngram_range=(1, 1), preprocessor=None, stop_words=None,\n",
       "                strip_accents=None, token_pattern='(?u)\\x08\\\\w\\\\w+\\x08',\n",
       "                tokenizer=None, vocabulary=None)"
      ]
     },
     "execution_count": 3,
     "metadata": {},
     "output_type": "execute_result"
    }
   ],
   "source": [
    "CountVectorizer( \n",
    "  input='content', encoding='utf-8', decode_error='strict', \n",
    "  strip_accents=None, lowercase=True, preprocessor=None, tokenizer=None, \n",
    "  stop_words=None, token_pattern='(?u)\\b\\w\\w+\\b', ngram_range=(1, 1), \n",
    "  analyzer='word', max_df=1.0, min_df=1, max_features=None, \n",
    "  vocabulary=None, binary=False\n",
    ")"
   ]
  },
  {
   "cell_type": "code",
   "execution_count": 4,
   "metadata": {},
   "outputs": [],
   "source": [
    "def get_vector_feature_matrix(description):\n",
    "    vectorizer = CountVectorizer(lowercase=True, stop_words=\"english\", max_features=5)\n",
    "    #vectorizer = CountVectorizer(lowercase=True, stop_words=\"english\")\n",
    "    #vectorizer = CountVectorizer(lowercase=True, stop_words=\"english\",ngram_range=(1, 2), max_features=20)\n",
    "\n",
    "    #vectorizer = CountVectorizer(lowercase=True, stop_words=\"english\", tokenizer=stemming_tokenizer) \n",
    "    vector = vectorizer.fit_transform(np.array(description))\n",
    "    return vector, vectorizer"
   ]
  },
  {
   "cell_type": "code",
   "execution_count": 5,
   "metadata": {},
   "outputs": [],
   "source": [
    "vectorizer = CountVectorizer(lowercase=True, stop_words=\"english\", max_features=5)"
   ]
  },
  {
   "cell_type": "code",
   "execution_count": 7,
   "metadata": {},
   "outputs": [],
   "source": [
    "vector, vectorizer = get_vector_feature_matrix(data['review_description'])"
   ]
  },
  {
   "cell_type": "code",
   "execution_count": 8,
   "metadata": {},
   "outputs": [],
   "source": [
    "def get_vector_feature_matrix(description):\n",
    "    #vectorizer = CountVectorizer(lowercase=True, stop_words=\"english\", max_features=5)\n",
    "    vectorizer = CountVectorizer(lowercase=True, stop_words=\"english\", max_features=1000)\n",
    "    #vectorizer = CountVectorizer(lowercase=True, stop_words=\"english\",ngram_range=(1, 2), max_features=1000)\n",
    "    #vectorizer = CountVectorizer(lowercase=True, stop_words=\"english\", tokenizer=stemming_tokenizer) \n",
    "    vector = vectorizer.fit_transform(np.array(description))\n",
    "    return vector, vectorizer"
   ]
  },
  {
   "cell_type": "code",
   "execution_count": 10,
   "metadata": {},
   "outputs": [],
   "source": [
    "vector, vectorizer = get_vector_feature_matrix(data['review_description'])"
   ]
  },
  {
   "cell_type": "code",
   "execution_count": 11,
   "metadata": {},
   "outputs": [],
   "source": [
    "features = vector.todense()"
   ]
  },
  {
   "cell_type": "code",
   "execution_count": 12,
   "metadata": {},
   "outputs": [],
   "source": [
    "label = data['variety']"
   ]
  },
  {
   "cell_type": "code",
   "execution_count": 13,
   "metadata": {},
   "outputs": [],
   "source": [
    "X, y = features, label\n",
    "X_train, X_test, y_train, y_test = train_test_split(X, y, test_size=0.2)"
   ]
  },
  {
   "cell_type": "code",
   "execution_count": 14,
   "metadata": {},
   "outputs": [
    {
     "name": "stdout",
     "output_type": "stream",
     "text": [
      "Accuracy is 0.6714856036777159\n"
     ]
    }
   ],
   "source": [
    "lr = LogisticRegression(multi_class='ovr',solver='lbfgs', max_iter=1000)\n",
    "model = lr.fit(X_train, y_train)\n",
    "\n",
    "accuracy = model.score(X_test, y_test)\n",
    "print (\"Accuracy is {}\".format(accuracy))"
   ]
  },
  {
   "cell_type": "code",
   "execution_count": 15,
   "metadata": {},
   "outputs": [],
   "source": [
    "from sklearn.model_selection import cross_val_score\n",
    "from sklearn.ensemble import RandomForestClassifier"
   ]
  },
  {
   "cell_type": "code",
   "execution_count": 17,
   "metadata": {},
   "outputs": [],
   "source": [
    "import warnings\n",
    "warnings.simplefilter('ignore')"
   ]
  },
  {
   "cell_type": "code",
   "execution_count": 18,
   "metadata": {},
   "outputs": [
    {
     "name": "stdout",
     "output_type": "stream",
     "text": [
      "Accuracy is 0.6645293975320591\n"
     ]
    }
   ],
   "source": [
    "rf = RandomForestClassifier(n_estimators=100)\n",
    "model = rf.fit(X_train, y_train)\n",
    "\n",
    "accuracy = model.score(X_test, y_test)\n",
    "print (\"Accuracy is {}\".format(accuracy))"
   ]
  },
  {
   "cell_type": "code",
   "execution_count": 19,
   "metadata": {},
   "outputs": [],
   "source": [
    "from sklearn.model_selection import GridSearchCV\n"
   ]
  },
  {
   "cell_type": "code",
   "execution_count": 23,
   "metadata": {},
   "outputs": [
    {
     "name": "stdout",
     "output_type": "stream",
     "text": [
      "Accuracy is 0.6776554560851682\n"
     ]
    }
   ],
   "source": [
    "rf2 = ExtraTreesClassifier(n_estimators=100)\n",
    "model = rf2.fit(X_train, y_train)\n",
    "\n",
    "accuracy = model.score(X_test, y_test)\n",
    "print (\"Accuracy is {}\".format(accuracy))"
   ]
  },
  {
   "cell_type": "code",
   "execution_count": 28,
   "metadata": {},
   "outputs": [
    {
     "name": "stdout",
     "output_type": "stream",
     "text": [
      "Accuracy is 0.6739051536414227\n"
     ]
    }
   ],
   "source": [
    "model = sclf.fit(X_train, y_train)\n",
    "accuracy = model.score(X_test, y_test)\n",
    "print (\"Accuracy is {}\".format(accuracy))"
   ]
  },
  {
   "cell_type": "code",
   "execution_count": 177,
   "metadata": {},
   "outputs": [],
   "source": [
    "testing_data = pd.read_csv('/Users/bhavikprajapati/Downloads/Knight ML Assignment/Data/test.csv')\n"
   ]
  },
  {
   "cell_type": "code",
   "execution_count": 179,
   "metadata": {},
   "outputs": [
    {
     "data": {
      "text/html": [
       "<div>\n",
       "<style scoped>\n",
       "    .dataframe tbody tr th:only-of-type {\n",
       "        vertical-align: middle;\n",
       "    }\n",
       "\n",
       "    .dataframe tbody tr th {\n",
       "        vertical-align: top;\n",
       "    }\n",
       "\n",
       "    .dataframe thead th {\n",
       "        text-align: right;\n",
       "    }\n",
       "</style>\n",
       "<table border=\"1\" class=\"dataframe\">\n",
       "  <thead>\n",
       "    <tr style=\"text-align: right;\">\n",
       "      <th></th>\n",
       "      <th>0</th>\n",
       "      <th>1</th>\n",
       "      <th>2</th>\n",
       "      <th>3</th>\n",
       "      <th>4</th>\n",
       "      <th>5</th>\n",
       "      <th>6</th>\n",
       "      <th>7</th>\n",
       "      <th>8</th>\n",
       "      <th>9</th>\n",
       "      <th>...</th>\n",
       "      <th>20655</th>\n",
       "      <th>20656</th>\n",
       "      <th>20657</th>\n",
       "      <th>20658</th>\n",
       "      <th>20659</th>\n",
       "      <th>20660</th>\n",
       "      <th>20661</th>\n",
       "      <th>20662</th>\n",
       "      <th>20663</th>\n",
       "      <th>20664</th>\n",
       "    </tr>\n",
       "  </thead>\n",
       "  <tbody>\n",
       "    <tr>\n",
       "      <th>review_description</th>\n",
       "      <td>Nicely differentiated from the companion Stewa...</td>\n",
       "      <td>Charred, smoky, herbal aromas of blackberry tr...</td>\n",
       "      <td>Slightly sour and funky in earth, this is a re...</td>\n",
       "      <td>This concentrated, midnight-black Malbec deliv...</td>\n",
       "      <td>Earthy aromas suggesting grilled porcini, leat...</td>\n",
       "      <td>The timid nose squeaks out notes of Chinese fi...</td>\n",
       "      <td>A structured wine that has berry fruits, black...</td>\n",
       "      <td>This is a remarkable value, over-delivering in...</td>\n",
       "      <td>Staunch herbal aromas of tobacco, olive, rubbe...</td>\n",
       "      <td>A blend of 65% Chardonnay and 35% Pinot Nero, ...</td>\n",
       "      <td>...</td>\n",
       "      <td>Most of the grapes in this statewide blend cam...</td>\n",
       "      <td>Aromas of menthol, pressed violet, espresso an...</td>\n",
       "      <td>Exuberant aromas of fresh pineapple, mango and...</td>\n",
       "      <td>With a typical touch of fizz, this wine is fru...</td>\n",
       "      <td>The inviting scents of melting butter on hot d...</td>\n",
       "      <td>Clearly focused and fruit-driven, this wine ha...</td>\n",
       "      <td>Herbal tones of bay and rosemary are upfront o...</td>\n",
       "      <td>Mocha cream, pencil shaving and dried herb aro...</td>\n",
       "      <td>Loud citrus and berry aromas precede an overlo...</td>\n",
       "      <td>With very ripe fruit and firm tannins, this mo...</td>\n",
       "    </tr>\n",
       "  </tbody>\n",
       "</table>\n",
       "<p>1 rows × 20665 columns</p>\n",
       "</div>"
      ],
      "text/plain": [
       "                                                                0      \\\n",
       "review_description  Nicely differentiated from the companion Stewa...   \n",
       "\n",
       "                                                                1      \\\n",
       "review_description  Charred, smoky, herbal aromas of blackberry tr...   \n",
       "\n",
       "                                                                2      \\\n",
       "review_description  Slightly sour and funky in earth, this is a re...   \n",
       "\n",
       "                                                                3      \\\n",
       "review_description  This concentrated, midnight-black Malbec deliv...   \n",
       "\n",
       "                                                                4      \\\n",
       "review_description  Earthy aromas suggesting grilled porcini, leat...   \n",
       "\n",
       "                                                                5      \\\n",
       "review_description  The timid nose squeaks out notes of Chinese fi...   \n",
       "\n",
       "                                                                6      \\\n",
       "review_description  A structured wine that has berry fruits, black...   \n",
       "\n",
       "                                                                7      \\\n",
       "review_description  This is a remarkable value, over-delivering in...   \n",
       "\n",
       "                                                                8      \\\n",
       "review_description  Staunch herbal aromas of tobacco, olive, rubbe...   \n",
       "\n",
       "                                                                9      ...  \\\n",
       "review_description  A blend of 65% Chardonnay and 35% Pinot Nero, ...  ...   \n",
       "\n",
       "                                                                20655  \\\n",
       "review_description  Most of the grapes in this statewide blend cam...   \n",
       "\n",
       "                                                                20656  \\\n",
       "review_description  Aromas of menthol, pressed violet, espresso an...   \n",
       "\n",
       "                                                                20657  \\\n",
       "review_description  Exuberant aromas of fresh pineapple, mango and...   \n",
       "\n",
       "                                                                20658  \\\n",
       "review_description  With a typical touch of fizz, this wine is fru...   \n",
       "\n",
       "                                                                20659  \\\n",
       "review_description  The inviting scents of melting butter on hot d...   \n",
       "\n",
       "                                                                20660  \\\n",
       "review_description  Clearly focused and fruit-driven, this wine ha...   \n",
       "\n",
       "                                                                20661  \\\n",
       "review_description  Herbal tones of bay and rosemary are upfront o...   \n",
       "\n",
       "                                                                20662  \\\n",
       "review_description  Mocha cream, pencil shaving and dried herb aro...   \n",
       "\n",
       "                                                                20663  \\\n",
       "review_description  Loud citrus and berry aromas precede an overlo...   \n",
       "\n",
       "                                                                20664  \n",
       "review_description  With very ripe fruit and firm tannins, this mo...  \n",
       "\n",
       "[1 rows x 20665 columns]"
      ]
     },
     "execution_count": 179,
     "metadata": {},
     "output_type": "execute_result"
    }
   ],
   "source": [
    "testing = pd.DataFrame([testing_data['review_description']])\n",
    "testing"
   ]
  },
  {
   "cell_type": "code",
   "execution_count": 180,
   "metadata": {},
   "outputs": [],
   "source": [
    "test = testing.to_numpy()"
   ]
  },
  {
   "cell_type": "code",
   "execution_count": 181,
   "metadata": {},
   "outputs": [],
   "source": [
    "for i in test:\n",
    "    x = vectorizer.transform(i)\n",
    "    proba = model.predict_proba(x)\n",
    "    classes = model.classes_\n",
    "    resultdf = pd.DataFrame(data=proba, columns=classes)\n",
    "    resultdf"
   ]
  },
  {
   "cell_type": "code",
   "execution_count": 182,
   "metadata": {},
   "outputs": [
    {
     "data": {
      "text/plain": [
       "0        0.87\n",
       "1        0.59\n",
       "2        0.39\n",
       "3        0.40\n",
       "4        0.73\n",
       "         ... \n",
       "20660    0.40\n",
       "20661    0.70\n",
       "20662    0.34\n",
       "20663    0.28\n",
       "20664    0.79\n",
       "Length: 20665, dtype: float64"
      ]
     },
     "execution_count": 182,
     "metadata": {},
     "output_type": "execute_result"
    }
   ],
   "source": [
    "resultdf.max(axis=1)"
   ]
  },
  {
   "cell_type": "code",
   "execution_count": 138,
   "metadata": {},
   "outputs": [
    {
     "name": "stdout",
     "output_type": "stream",
     "text": [
      "Accuracy is 0.6739051536414227\n"
     ]
    }
   ],
   "source": [
    "print (\"Accuracy is {}\".format(accuracy))"
   ]
  },
  {
   "cell_type": "code",
   "execution_count": 183,
   "metadata": {},
   "outputs": [
    {
     "data": {
      "text/plain": [
       "0                Pinot Noir\n",
       "1                    Malbec\n",
       "2                Chardonnay\n",
       "3                    Malbec\n",
       "4                Sangiovese\n",
       "                ...        \n",
       "20660                 Syrah\n",
       "20661                  Rosé\n",
       "20662    Cabernet Sauvignon\n",
       "20663                Malbec\n",
       "20664    Cabernet Sauvignon\n",
       "Length: 20665, dtype: object"
      ]
     },
     "execution_count": 183,
     "metadata": {},
     "output_type": "execute_result"
    }
   ],
   "source": [
    "resultdf.idxmax(axis=1)"
   ]
  },
  {
   "cell_type": "code",
   "execution_count": 184,
   "metadata": {},
   "outputs": [],
   "source": [
    "predicted_variety = pd.DataFrame([resultdf.idxmax(axis=1)])"
   ]
  },
  {
   "cell_type": "code",
   "execution_count": 185,
   "metadata": {},
   "outputs": [],
   "source": [
    "predicted_variety = predicted_variety.T"
   ]
  },
  {
   "cell_type": "code",
   "execution_count": 186,
   "metadata": {},
   "outputs": [],
   "source": [
    "predicted_variety.columns = ['variety']"
   ]
  },
  {
   "cell_type": "code",
   "execution_count": 187,
   "metadata": {},
   "outputs": [
    {
     "data": {
      "text/html": [
       "<div>\n",
       "<style scoped>\n",
       "    .dataframe tbody tr th:only-of-type {\n",
       "        vertical-align: middle;\n",
       "    }\n",
       "\n",
       "    .dataframe tbody tr th {\n",
       "        vertical-align: top;\n",
       "    }\n",
       "\n",
       "    .dataframe thead th {\n",
       "        text-align: right;\n",
       "    }\n",
       "</style>\n",
       "<table border=\"1\" class=\"dataframe\">\n",
       "  <thead>\n",
       "    <tr style=\"text-align: right;\">\n",
       "      <th></th>\n",
       "      <th>variety</th>\n",
       "    </tr>\n",
       "  </thead>\n",
       "  <tbody>\n",
       "    <tr>\n",
       "      <th>0</th>\n",
       "      <td>Pinot Noir</td>\n",
       "    </tr>\n",
       "    <tr>\n",
       "      <th>1</th>\n",
       "      <td>Malbec</td>\n",
       "    </tr>\n",
       "    <tr>\n",
       "      <th>2</th>\n",
       "      <td>Chardonnay</td>\n",
       "    </tr>\n",
       "    <tr>\n",
       "      <th>3</th>\n",
       "      <td>Malbec</td>\n",
       "    </tr>\n",
       "    <tr>\n",
       "      <th>4</th>\n",
       "      <td>Sangiovese</td>\n",
       "    </tr>\n",
       "    <tr>\n",
       "      <th>...</th>\n",
       "      <td>...</td>\n",
       "    </tr>\n",
       "    <tr>\n",
       "      <th>20660</th>\n",
       "      <td>Syrah</td>\n",
       "    </tr>\n",
       "    <tr>\n",
       "      <th>20661</th>\n",
       "      <td>Rosé</td>\n",
       "    </tr>\n",
       "    <tr>\n",
       "      <th>20662</th>\n",
       "      <td>Cabernet Sauvignon</td>\n",
       "    </tr>\n",
       "    <tr>\n",
       "      <th>20663</th>\n",
       "      <td>Malbec</td>\n",
       "    </tr>\n",
       "    <tr>\n",
       "      <th>20664</th>\n",
       "      <td>Cabernet Sauvignon</td>\n",
       "    </tr>\n",
       "  </tbody>\n",
       "</table>\n",
       "<p>20665 rows × 1 columns</p>\n",
       "</div>"
      ],
      "text/plain": [
       "                  variety\n",
       "0              Pinot Noir\n",
       "1                  Malbec\n",
       "2              Chardonnay\n",
       "3                  Malbec\n",
       "4              Sangiovese\n",
       "...                   ...\n",
       "20660               Syrah\n",
       "20661                Rosé\n",
       "20662  Cabernet Sauvignon\n",
       "20663              Malbec\n",
       "20664  Cabernet Sauvignon\n",
       "\n",
       "[20665 rows x 1 columns]"
      ]
     },
     "execution_count": 187,
     "metadata": {},
     "output_type": "execute_result"
    }
   ],
   "source": [
    "predicted_variety"
   ]
  },
  {
   "cell_type": "code",
   "execution_count": 189,
   "metadata": {},
   "outputs": [],
   "source": [
    "final_tested = testing_data.join(predicted_variety)"
   ]
  },
  {
   "cell_type": "code",
   "execution_count": 157,
   "metadata": {},
   "outputs": [],
   "source": [
    "training = pd.DataFrame([data['review_description']])\n",
    "training = training.T"
   ]
  },
  {
   "cell_type": "code",
   "execution_count": 158,
   "metadata": {},
   "outputs": [],
   "source": [
    "train_review = training.to_numpy()"
   ]
  },
  {
   "cell_type": "code",
   "execution_count": 159,
   "metadata": {},
   "outputs": [],
   "source": [
    "for i in train_review:\n",
    "    y = vectorizer.transform(i)\n",
    "    prob = model.predict_proba(y)\n",
    "    classe = model.classes_\n",
    "    result = pd.DataFrame(data=prob, columns=classe)"
   ]
  },
  {
   "cell_type": "code",
   "execution_count": 171,
   "metadata": {},
   "outputs": [],
   "source": [
    "predicted = pd.DataFrame([result.idxmax(axis=1)])"
   ]
  },
  {
   "cell_type": "code",
   "execution_count": 163,
   "metadata": {},
   "outputs": [],
   "source": [
    "predicted = predicted.T"
   ]
  },
  {
   "cell_type": "code",
   "execution_count": 172,
   "metadata": {},
   "outputs": [],
   "source": [
    "predicted.columns = ['predicted_variety']\n"
   ]
  },
  {
   "cell_type": "code",
   "execution_count": 190,
   "metadata": {},
   "outputs": [],
   "source": [
    "final_tested.to_csv('final_tested.csv')"
   ]
  },
  {
   "cell_type": "code",
   "execution_count": null,
   "metadata": {},
   "outputs": [],
   "source": []
  }
 ],
 "metadata": {
  "kernelspec": {
   "display_name": "Python 3",
   "language": "python",
   "name": "python3"
  },
  "language_info": {
   "codemirror_mode": {
    "name": "ipython",
    "version": 3
   },
   "file_extension": ".py",
   "mimetype": "text/x-python",
   "name": "python",
   "nbconvert_exporter": "python",
   "pygments_lexer": "ipython3",
   "version": "3.7.7"
  }
 },
 "nbformat": 4,
 "nbformat_minor": 2
}
